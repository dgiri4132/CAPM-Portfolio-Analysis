{
  "nbformat": 4,
  "nbformat_minor": 0,
  "metadata": {
    "colab": {
      "provenance": [],
      "authorship_tag": "ABX9TyOPkDoiQasKX0Hl5uFTlhQA",
      "include_colab_link": true
    },
    "kernelspec": {
      "name": "python3",
      "display_name": "Python 3"
    },
    "language_info": {
      "name": "python"
    }
  },
  "cells": [
    {
      "cell_type": "markdown",
      "metadata": {
        "id": "view-in-github",
        "colab_type": "text"
      },
      "source": [
        "<a href=\"https://colab.research.google.com/github/dgiri4132/CAPM-Portfolio-Analysis/blob/main/CAPM_vs_Actual_Return_myPort.ipynb\" target=\"_parent\"><img src=\"https://colab.research.google.com/assets/colab-badge.svg\" alt=\"Open In Colab\"/></a>"
      ]
    },
    {
      "cell_type": "code",
      "execution_count": null,
      "metadata": {
        "id": "Jv6z-Ur_7mFU",
        "colab": {
          "base_uri": "https://localhost:8080/",
          "height": 598
        },
        "outputId": "e88f0055-625e-432a-d2ac-8d85d3c92597"
      },
      "outputs": [
        {
          "name": "stdout",
          "output_type": "stream",
          "text": [
            "Enter how many stocks you want: 2\n",
            "Enter the symbol:1 aapl\n",
            "Enter the symbol:2 amzn\n",
            "Enter the start date: 2023-01-01\n",
            "Enter the end date: 2024-01-01\n"
          ]
        },
        {
          "output_type": "stream",
          "name": "stderr",
          "text": [
            "[*********************100%***********************]  3 of 3 completed"
          ]
        },
        {
          "output_type": "stream",
          "name": "stdout",
          "text": [
            "  Stock   Alpha    Beta  Actual Return  CAPM Return  Real Alpha\n",
            "0  AAPL  0.0008  1.1045         0.0018        0.001      0.0008\n",
            "  Stock   Alpha    Beta  Actual Return  CAPM Return  Real Alpha\n",
            "0  AAPL  0.0008  1.1045         0.0018       0.0010      0.0008\n",
            "1  AMZN  0.0011  1.5388         0.0025       0.0014      0.0011\n"
          ]
        },
        {
          "output_type": "stream",
          "name": "stderr",
          "text": [
            "\n"
          ]
        },
        {
          "output_type": "display_data",
          "data": {
            "text/plain": [
              "<Figure size 800x400 with 1 Axes>"
            ],
            "image/png": "[encoded data removed]"
          },
          "metadata": {}
        }
      ],
      "source": [
        "import yfinance as yf\n",
        "import pandas as pd\n",
        "import statsmodels.api as sm\n",
        "import matplotlib.pyplot as plt\n",
        "tickers=[]\n",
        "n=int(input('Enter how many stocks you want: '))\n",
        "for i in range(n):\n",
        "  symbol=input(f'Enter the symbol:{i+1} ').upper().strip()\n",
        "  tickers.append(symbol)\n",
        "tickers.append('^GSPC')\n",
        "start_date=input('Enter the start date: ')\n",
        "end_date=input('Enter the end date: ')\n",
        "data=yf.download(tickers, start=start_date, end=end_date, auto_adjust=False)['Adj Close'].dropna()\n",
        "returns=data.pct_change().dropna()\n",
        "market_returns=returns['^GSPC']\n",
        "results=[]\n",
        "risk_free_rate=0.02/252\n",
        "expected_market_returns=market_returns.mean()\n",
        "for stock in tickers:\n",
        "  if stock=='^GSPC':\n",
        "    continue\n",
        "  stock_returns=returns[stock]\n",
        "  actual_returns=stock_returns.mean()\n",
        "  X=sm.add_constant(market_returns)\n",
        "  model=sm.OLS(stock_returns,X).fit()\n",
        "  alpha=model.params['const']\n",
        "  beta=model.params['^GSPC']\n",
        "  CAPM_return=risk_free_rate+beta*(expected_market_returns-risk_free_rate)\n",
        "  real_alpha=actual_returns-CAPM_return\n",
        "  results.append({'Stock':stock,'Alpha':round(alpha,4),'Beta':round(beta,4),'Actual Return':round(actual_returns,4),'CAPM Return':round(CAPM_return,4),'Real Alpha':round(real_alpha,4)})\n",
        "  results_df=pd.DataFrame(results)\n",
        "  print(results_df)\n",
        "results_df.set_index('Stock')[['Actual Return','CAPM Return']].plot(kind='bar',figsize=(8,4))\n",
        "plt.title('Actual Returns vs CAPM Predicted Returns')\n",
        "plt.ylabel('Daily Returns')\n",
        "plt.grid(True)\n",
        "plt.tight_layout()\n",
        "plt.show()"
      ]
    },
    {
      "cell_type": "code",
      "source": [
        "!ssh-keygen -t rsa -b 4096 -C \"darshangiri785@gmail.com\""
      ],
      "metadata": {
        "id": "RmicLvMWU1kz",
        "colab": {
          "base_uri": "https://localhost:8080/"
        },
        "outputId": "a255d458-74db-471c-e771-fa4b70bdba3b"
      },
      "execution_count": 8,
      "outputs": [
        {
          "output_type": "stream",
          "name": "stdout",
          "text": [
            "Generating public/private rsa key pair.\n",
            "Enter file in which to save the key (/root/.ssh/id_rsa): \n",
            "Created directory '/root/.ssh'.\n",
            "Enter passphrase (empty for no passphrase): \n",
            "Enter same passphrase again: \n",
            "Your identification has been saved in /root/.ssh/id_rsa\n",
            "Your public key has been saved in /root/.ssh/id_rsa.pub\n",
            "The key fingerprint is:\n",
            "SHA256:3gTiQdqWaM+yKU8mMNoxJsmUko1c0y5Dz3AJ0/GRPl8 darshangiri785@gmail.com\n",
            "The key's randomart image is:\n",
            "+---[RSA 4096]----+\n",
            "|   =+.+..        |\n",
            "|.+oooX.o.        |\n",
            "|++o X B..        |\n",
            "|+. + O = . E     |\n",
            "|=.+ + + S o      |\n",
            "|.* o + . +       |\n",
            "|. + =   . .      |\n",
            "|   *             |\n",
            "|    .            |\n",
            "+----[SHA256]-----+\n"
          ]
        }
      ]
    },
    {
      "cell_type": "code",
      "source": [
        "!cat /root/.ssh/id_rsa.pub\n"
      ],
      "metadata": {
        "colab": {
          "base_uri": "https://localhost:8080/"
        },
        "id": "wOsTt0SDiNID",
        "outputId": "085794f7-a15a-4f1f-bb1e-c329d93d9b83"
      },
      "execution_count": 9,
      "outputs": [
        {
          "output_type": "stream",
          "name": "stdout",
          "text": [
            "ssh-rsa AAAAB3NzaC1yc2EAAAADAQABAAACAQDQ1wRy/vzv7PQFGLx782nH/nOfxOfwh1vG0qGnl0275IaFngnvDagyEdypV87aDjVGJrC+0x+OzuM+SAQDjcNt6pwAqULzzmnXHB5YIyY/uyjTyta57VpCuPRs/0LoHSj9svkNNOSKnBjcF/e7SJx70igHDdeJp2NuBxVP09C9lcSfe1jwbNGoYT68ebEdGsl7k+qp5Z8SJwbgZCDgQSSXK7A60cXluFMNEiHoqSmGOWFcDo9DndMxlS3GqVnN8pgPeJqGw8XbIVXq9hSafMLykedVopP5N32/p1vXtyC8PAtFXLfKZyHW/Qg3I2Xs9PvgHTJhHg9U4xUlL0awIXC/MrZD8p/efx4ShimyEm6CK7SGpOKqxlLNkP3GKvUYAG8MPvQn9fvtgQL6VCItulU2UjYbhZ2fkryID//BNTDglaU1F8yLXyEr5hOKXk+1PSpun7jESIxjIHXg0vQbxVdOsuQ6jsHTiAhtzYeAuhi0QUX4o9WFRNqdW5MTY8wgpBDxt1+wLQjvJrTGEcUmcF6U6mpSZ7aHWb5CAa8ei3QsZxUP85j2GrX6/4GjiiOxrBvqatYFRmv+h9PDzBiQjujRlbdvoZbnxZti/TvSITRxHKeMW1lSiVuEPMAWQkMVRnc/utFA1hR/j/eKK9ljk4Ufj+h+iN4gSCbVpJ6l0TpyEQ== darshangiri785@gmail.com\n"
          ]
        }
      ]
    },
    {
      "cell_type": "code",
      "source": [
        "!chmod 600 /root/.ssh/id_rsa\n",
        "!ssh-keyscan github.com >> /root/.ssh/known_hosts\n"
      ],
      "metadata": {
        "colab": {
          "base_uri": "https://localhost:8080/"
        },
        "id": "hSDwHrgljJLw",
        "outputId": "19c7da50-18f4-44f7-e14a-967d5977f6d2"
      },
      "execution_count": 10,
      "outputs": [
        {
          "output_type": "stream",
          "name": "stdout",
          "text": [
            "# github.com:22 SSH-2.0-025168a2\n",
            "# github.com:22 SSH-2.0-025168a2\n",
            "# github.com:22 SSH-2.0-025168a2\n",
            "# github.com:22 SSH-2.0-025168a2\n",
            "# github.com:22 SSH-2.0-025168a2\n"
          ]
        }
      ]
    },
    {
      "cell_type": "code",
      "source": [
        "!git config --global user.name \"dgiri4132\"\n",
        "!git config --global user.email \"darshangiri785@gmail.com\"\n",
        "\n",
        "!git add .\n",
        "!git commit -m \"Adding graphs for CAPM vs Actual returns \"\n",
        "!git push origin main\n"
      ],
      "metadata": {
        "colab": {
          "base_uri": "https://localhost:8080/"
        },
        "id": "0kFoXT9QjSXf",
        "outputId": "4f4dacb0-5d7d-4e70-9609-f0f18b976ee3"
      },
      "execution_count": 16,
      "outputs": [
        {
          "output_type": "stream",
          "name": "stdout",
          "text": [
            "On branch main\n",
            "Your branch is ahead of 'origin/main' by 1 commit.\n",
            "  (use \"git push\" to publish your local commits)\n",
            "\n",
            "nothing to commit, working tree clean\n",
            "ERROR: Repository not found.\n",
            "fatal: Could not read from remote repository.\n",
            "\n",
            "Please make sure you have the correct access rights\n",
            "and the repository exists.\n"
          ]
        }
      ]
    },
    {
      "cell_type": "code",
      "source": [
        "!git remote -v\n"
      ],
      "metadata": {
        "colab": {
          "base_uri": "https://localhost:8080/"
        },
        "id": "4dGna3RejqlW",
        "outputId": "2b7cd343-719b-4cc8-ceef-f2956eeba1f5"
      },
      "execution_count": 19,
      "outputs": [
        {
          "output_type": "stream",
          "name": "stdout",
          "text": [
            "origin\tgit@github.com:dgiri4132/CAPM-Portfolio-Analysis.git (fetch)\n",
            "origin\tgit@github.com:dgiri4132/CAPM-Portfolio-Analysis.git (push)\n"
          ]
        }
      ]
    },
    {
      "cell_type": "code",
      "source": [
        "!git remote set-url origin git@github.com:dgiri4132/CAPM-Portfolio-Analysis.git\n"
      ],
      "metadata": {
        "id": "Y36FxvIrBpgV"
      },
      "execution_count": 18,
      "outputs": []
    },
    {
      "cell_type": "code",
      "source": [
        "!git push origin main\n"
      ],
      "metadata": {
        "colab": {
          "base_uri": "https://localhost:8080/"
        },
        "id": "p_LTnfbNkUEc",
        "outputId": "26e4ab89-deef-464d-c30f-e4492212266f"
      },
      "execution_count": 20,
      "outputs": [
        {
          "output_type": "stream",
          "name": "stdout",
          "text": [
            "Enumerating objects: 5, done.\n",
            "Counting objects:  20% (1/5)\rCounting objects:  40% (2/5)\rCounting objects:  60% (3/5)\rCounting objects:  80% (4/5)\rCounting objects: 100% (5/5)\rCounting objects: 100% (5/5), done.\n",
            "Delta compression using up to 2 threads\n",
            "Compressing objects:  33% (1/3)\rCompressing objects:  66% (2/3)\rCompressing objects: 100% (3/3)\rCompressing objects: 100% (3/3), done.\n",
            "Writing objects:  33% (1/3)\rWriting objects:  66% (2/3)\rWriting objects: 100% (3/3)\rWriting objects: 100% (3/3), 25.48 KiB | 12.74 MiB/s, done.\n",
            "Total 3 (delta 0), reused 0 (delta 0), pack-reused 0\n",
            "remote: \u001b[1;31merror\u001b[m: GH013: Repository rule violations found for refs/heads/main.\u001b[K\n",
            "remote: \n",
            "remote: - GITHUB PUSH PROTECTION\u001b[K\n",
            "remote:   —————————————————————————————————————————\u001b[K\n",
            "remote:     Resolve the following violations before pushing again\u001b[K\n",
            "remote: \n",
            "remote:     - Push cannot contain secrets\u001b[K\n",
            "remote: \n",
            "remote:     \u001b[K\n",
            "remote:      (?) Learn how to resolve a blocked push\u001b[K\n",
            "remote:      https://docs.github.com/code-security/secret-scanning/working-with-secret-scanning-and-push-protection/working-with-push-protection-from-the-command-line#resolving-a-blocked-push\u001b[K\n",
            "remote:     \u001b[K\n",
            "remote:     \u001b[K\n",
            "remote:       —— GitHub Personal Access Token ——————————————————————\u001b[K\n",
            "remote:        locations:\u001b[K\n",
            "remote:          - commit: 947ce198641019236caecb5e65d3ecbf59f77737\u001b[K\n",
            "remote:            path: CAPM_vs_Actual_Return_myPort.ipynb:1\u001b[K\n",
            "remote:     \u001b[K\n",
            "remote:        (?) To push, remove secret from commit(s) or follow this URL to allow the secret.\u001b[K\n",
            "remote:        https://github.com/dgiri4132/CAPM-Portfolio-Analysis/security/secret-scanning/unblock-secret/2y8qRBI3ICaVCOTfYL5NfxG4xno\u001b[K\n",
            "remote:     \u001b[K\n",
            "remote:     \u001b[K\n",
            "remote:       —— GitHub Personal Access Token ——————————————————————\u001b[K\n",
            "remote:        locations:\u001b[K\n",
            "remote:          - commit: 947ce198641019236caecb5e65d3ecbf59f77737\u001b[K\n",
            "remote:            path: CAPM_vs_Actual_Return_myPort.ipynb:1\u001b[K\n",
            "remote:     \u001b[K\n",
            "remote:        (?) To push, remove secret from commit(s) or follow this URL to allow the secret.\u001b[K\n",
            "remote:        https://github.com/dgiri4132/CAPM-Portfolio-Analysis/security/secret-scanning/unblock-secret/2y8qRE9yJWE4uB8i8yi4GP1AgDZ\u001b[K\n",
            "remote:     \u001b[K\n",
            "remote: \n",
            "remote: \n",
            "To github.com:dgiri4132/CAPM-Portfolio-Analysis.git\n",
            " \u001b[31m! [remote rejected]\u001b[m main -> main (push declined due to repository rule violations)\n",
            "\u001b[31merror: failed to push some refs to 'github.com:dgiri4132/CAPM-Portfolio-Analysis.git'\n",
            "\u001b[m"
          ]
        }
      ]
    },
    {
      "cell_type": "code",
      "metadata": {
        "colab": {
          "base_uri": "https://localhost:8080/"
        },
        "id": "aa541c38",
        "outputId": "4a5ded2c-5a70-4dfc-a6ad-e7400190aee7"
      },
      "source": [
        "!git push origin main"
      ],
      "execution_count": 17,
      "outputs": [
        {
          "output_type": "stream",
          "name": "stdout",
          "text": [
            "ERROR: Repository not found.\n",
            "fatal: Could not read from remote repository.\n",
            "\n",
            "Please make sure you have the correct access rights\n",
            "and the repository exists.\n"
          ]
        }
      ]
    }
  ]
}